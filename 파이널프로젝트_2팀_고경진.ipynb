{
  "nbformat": 4,
  "nbformat_minor": 0,
  "metadata": {
    "colab": {
      "provenance": [],
      "mount_file_id": "1yR93a7-VRYw-1f4Vq6jdx_S4oOsh4cXh",
      "authorship_tag": "ABX9TyOloGjhTW5WeGkNb4hEjR3B",
      "include_colab_link": true
    },
    "kernelspec": {
      "name": "python3",
      "display_name": "Python 3"
    },
    "language_info": {
      "name": "python"
    }
  },
  "cells": [
    {
      "cell_type": "markdown",
      "metadata": {
        "id": "view-in-github",
        "colab_type": "text"
      },
      "source": [
        "<a href=\"https://colab.research.google.com/github/kj824/Final-Team2/blob/main/%ED%8C%8C%EC%9D%B4%EB%84%90%ED%94%84%EB%A1%9C%EC%A0%9D%ED%8A%B8_2%ED%8C%80_%EA%B3%A0%EA%B2%BD%EC%A7%84.ipynb\" target=\"_parent\"><img src=\"https://colab.research.google.com/assets/colab-badge.svg\" alt=\"Open In Colab\"/></a>"
      ]
    },
    {
      "cell_type": "markdown",
      "source": [
        "# 가설 : 숙소 유형에 따라 평점 수준, 리뷰 수, 평점 분산에 차이가 있을 것이다."
      ],
      "metadata": {
        "id": "5ZKnMq2iHKIs"
      }
    },
    {
      "cell_type": "markdown",
      "source": [
        "## 데이터 불러오기"
      ],
      "metadata": {
        "id": "kFfsjl1MHbHH"
      }
    },
    {
      "cell_type": "code",
      "execution_count": 4,
      "metadata": {
        "id": "RcUR33jgHD3V"
      },
      "outputs": [],
      "source": [
        "import pandas as pd\n",
        "import numpy as np\n",
        "\n",
        "df = pd.read_csv(\"/content/drive/MyDrive/Colab Notebooks/파이널프로젝트/combined_dataset.csv\")"
      ]
    },
    {
      "cell_type": "code",
      "source": [
        "%%capture\n",
        "# 폰트 설치\n",
        "!sudo apt-get install -y fonts-nanum\n",
        "!sudo fc-cache -fv\n",
        "!rm ~/.cache/matplotlib -rf\n",
        "\n",
        "# 필요한 라이브러리 임포트\n",
        "import pandas as pd\n",
        "import matplotlib.pyplot as plt\n",
        "import seaborn as sns\n",
        "\n",
        "# 폰트 설정\n",
        "plt.rc('font', family='NanumGothic')\n",
        "plt.rcParams['axes.unicode_minus'] = False\n",
        "\n",
        "%%capture\n",
        "!sudo apt-get install -y fonts-nanum\n",
        "!sudo fc-cache -fv\n",
        "!rm ~/.cache/matplotlib -rf\n",
        "\n",
        "import matplotlib.pyplot as plt\n",
        "import matplotlib.font_manager as fm\n",
        "fm.fontManager.addfont('/usr/share/fonts/truetype/nanum/NanumGothic.ttf')\n",
        "plt.rcParams['font.family'] = 'NanumGothic'"
      ],
      "metadata": {
        "id": "Wl2XsWv2Hhkt"
      },
      "execution_count": 5,
      "outputs": []
    },
    {
      "cell_type": "markdown",
      "source": [
        "## 데이터 확인 및 결측치 제거"
      ],
      "metadata": {
        "id": "vAtO2kVbIIZG"
      }
    },
    {
      "cell_type": "code",
      "source": [
        "#리뷰 수\n",
        "df['number_of_reviews'].value_counts()"
      ],
      "metadata": {
        "colab": {
          "base_uri": "https://localhost:8080/",
          "height": 489
        },
        "id": "obd9mgYtIKgH",
        "outputId": "3a744271-7a19-4d3c-f892-c6eba61acaf6"
      },
      "execution_count": 6,
      "outputs": [
        {
          "output_type": "execute_result",
          "data": {
            "text/plain": [
              "number_of_reviews\n",
              "0      1497\n",
              "1       654\n",
              "2       536\n",
              "3       403\n",
              "5       293\n",
              "       ... \n",
              "355       1\n",
              "541       1\n",
              "634       1\n",
              "506       1\n",
              "336       1\n",
              "Name: count, Length: 522, dtype: int64"
            ],
            "text/html": [
              "<div>\n",
              "<style scoped>\n",
              "    .dataframe tbody tr th:only-of-type {\n",
              "        vertical-align: middle;\n",
              "    }\n",
              "\n",
              "    .dataframe tbody tr th {\n",
              "        vertical-align: top;\n",
              "    }\n",
              "\n",
              "    .dataframe thead th {\n",
              "        text-align: right;\n",
              "    }\n",
              "</style>\n",
              "<table border=\"1\" class=\"dataframe\">\n",
              "  <thead>\n",
              "    <tr style=\"text-align: right;\">\n",
              "      <th></th>\n",
              "      <th>count</th>\n",
              "    </tr>\n",
              "    <tr>\n",
              "      <th>number_of_reviews</th>\n",
              "      <th></th>\n",
              "    </tr>\n",
              "  </thead>\n",
              "  <tbody>\n",
              "    <tr>\n",
              "      <th>0</th>\n",
              "      <td>1497</td>\n",
              "    </tr>\n",
              "    <tr>\n",
              "      <th>1</th>\n",
              "      <td>654</td>\n",
              "    </tr>\n",
              "    <tr>\n",
              "      <th>2</th>\n",
              "      <td>536</td>\n",
              "    </tr>\n",
              "    <tr>\n",
              "      <th>3</th>\n",
              "      <td>403</td>\n",
              "    </tr>\n",
              "    <tr>\n",
              "      <th>5</th>\n",
              "      <td>293</td>\n",
              "    </tr>\n",
              "    <tr>\n",
              "      <th>...</th>\n",
              "      <td>...</td>\n",
              "    </tr>\n",
              "    <tr>\n",
              "      <th>355</th>\n",
              "      <td>1</td>\n",
              "    </tr>\n",
              "    <tr>\n",
              "      <th>541</th>\n",
              "      <td>1</td>\n",
              "    </tr>\n",
              "    <tr>\n",
              "      <th>634</th>\n",
              "      <td>1</td>\n",
              "    </tr>\n",
              "    <tr>\n",
              "      <th>506</th>\n",
              "      <td>1</td>\n",
              "    </tr>\n",
              "    <tr>\n",
              "      <th>336</th>\n",
              "      <td>1</td>\n",
              "    </tr>\n",
              "  </tbody>\n",
              "</table>\n",
              "<p>522 rows × 1 columns</p>\n",
              "</div><br><label><b>dtype:</b> int64</label>"
            ]
          },
          "metadata": {},
          "execution_count": 6
        }
      ]
    },
    {
      "cell_type": "code",
      "source": [
        "df['number_of_reviews'].describe()"
      ],
      "metadata": {
        "colab": {
          "base_uri": "https://localhost:8080/",
          "height": 335
        },
        "id": "JBNz2ThDISSs",
        "outputId": "1f089cf1-f4d3-484a-bb3e-9f4a0e5b9ab3"
      },
      "execution_count": 7,
      "outputs": [
        {
          "output_type": "execute_result",
          "data": {
            "text/plain": [
              "count    11446.000000\n",
              "mean        59.958850\n",
              "std         99.617144\n",
              "min          0.000000\n",
              "25%          3.000000\n",
              "50%         18.000000\n",
              "75%         70.000000\n",
              "max       1801.000000\n",
              "Name: number_of_reviews, dtype: float64"
            ],
            "text/html": [
              "<div>\n",
              "<style scoped>\n",
              "    .dataframe tbody tr th:only-of-type {\n",
              "        vertical-align: middle;\n",
              "    }\n",
              "\n",
              "    .dataframe tbody tr th {\n",
              "        vertical-align: top;\n",
              "    }\n",
              "\n",
              "    .dataframe thead th {\n",
              "        text-align: right;\n",
              "    }\n",
              "</style>\n",
              "<table border=\"1\" class=\"dataframe\">\n",
              "  <thead>\n",
              "    <tr style=\"text-align: right;\">\n",
              "      <th></th>\n",
              "      <th>number_of_reviews</th>\n",
              "    </tr>\n",
              "  </thead>\n",
              "  <tbody>\n",
              "    <tr>\n",
              "      <th>count</th>\n",
              "      <td>11446.000000</td>\n",
              "    </tr>\n",
              "    <tr>\n",
              "      <th>mean</th>\n",
              "      <td>59.958850</td>\n",
              "    </tr>\n",
              "    <tr>\n",
              "      <th>std</th>\n",
              "      <td>99.617144</td>\n",
              "    </tr>\n",
              "    <tr>\n",
              "      <th>min</th>\n",
              "      <td>0.000000</td>\n",
              "    </tr>\n",
              "    <tr>\n",
              "      <th>25%</th>\n",
              "      <td>3.000000</td>\n",
              "    </tr>\n",
              "    <tr>\n",
              "      <th>50%</th>\n",
              "      <td>18.000000</td>\n",
              "    </tr>\n",
              "    <tr>\n",
              "      <th>75%</th>\n",
              "      <td>70.000000</td>\n",
              "    </tr>\n",
              "    <tr>\n",
              "      <th>max</th>\n",
              "      <td>1801.000000</td>\n",
              "    </tr>\n",
              "  </tbody>\n",
              "</table>\n",
              "</div><br><label><b>dtype:</b> float64</label>"
            ]
          },
          "metadata": {},
          "execution_count": 7
        }
      ]
    },
    {
      "cell_type": "code",
      "source": [
        "df['number_of_reviews'].isna().sum()"
      ],
      "metadata": {
        "colab": {
          "base_uri": "https://localhost:8080/"
        },
        "id": "os0Hp_oCIPlh",
        "outputId": "86f25ce4-d39e-4311-a548-991e1a306a3c"
      },
      "execution_count": 8,
      "outputs": [
        {
          "output_type": "execute_result",
          "data": {
            "text/plain": [
              "np.int64(0)"
            ]
          },
          "metadata": {},
          "execution_count": 8
        }
      ]
    },
    {
      "cell_type": "code",
      "source": [
        "df['review_scores_rating'].isna(). sum()"
      ],
      "metadata": {
        "colab": {
          "base_uri": "https://localhost:8080/"
        },
        "id": "i_TODBIoIR2M",
        "outputId": "4c6cad8b-44eb-43bc-d070-b6a770dd83fd"
      },
      "execution_count": 9,
      "outputs": [
        {
          "output_type": "execute_result",
          "data": {
            "text/plain": [
              "np.int64(1495)"
            ]
          },
          "metadata": {},
          "execution_count": 9
        }
      ]
    },
    {
      "cell_type": "code",
      "source": [
        "#nan값, 0점 제거\n",
        "df_clean = df[\n",
        "    (df[\"review_scores_rating\"].notna()) &\n",
        "    (df[\"review_scores_rating\"] > 0)\n",
        "].copy()"
      ],
      "metadata": {
        "id": "5jkUEjtWIaLP"
      },
      "execution_count": 10,
      "outputs": []
    },
    {
      "cell_type": "code",
      "source": [
        "df['number_of_reviews'].describe()"
      ],
      "metadata": {
        "colab": {
          "base_uri": "https://localhost:8080/",
          "height": 335
        },
        "id": "FxQFUccvIbpa",
        "outputId": "b651f13b-23e7-4e5f-e29f-18e44e755c9a"
      },
      "execution_count": 11,
      "outputs": [
        {
          "output_type": "execute_result",
          "data": {
            "text/plain": [
              "count    11446.000000\n",
              "mean        59.958850\n",
              "std         99.617144\n",
              "min          0.000000\n",
              "25%          3.000000\n",
              "50%         18.000000\n",
              "75%         70.000000\n",
              "max       1801.000000\n",
              "Name: number_of_reviews, dtype: float64"
            ],
            "text/html": [
              "<div>\n",
              "<style scoped>\n",
              "    .dataframe tbody tr th:only-of-type {\n",
              "        vertical-align: middle;\n",
              "    }\n",
              "\n",
              "    .dataframe tbody tr th {\n",
              "        vertical-align: top;\n",
              "    }\n",
              "\n",
              "    .dataframe thead th {\n",
              "        text-align: right;\n",
              "    }\n",
              "</style>\n",
              "<table border=\"1\" class=\"dataframe\">\n",
              "  <thead>\n",
              "    <tr style=\"text-align: right;\">\n",
              "      <th></th>\n",
              "      <th>number_of_reviews</th>\n",
              "    </tr>\n",
              "  </thead>\n",
              "  <tbody>\n",
              "    <tr>\n",
              "      <th>count</th>\n",
              "      <td>11446.000000</td>\n",
              "    </tr>\n",
              "    <tr>\n",
              "      <th>mean</th>\n",
              "      <td>59.958850</td>\n",
              "    </tr>\n",
              "    <tr>\n",
              "      <th>std</th>\n",
              "      <td>99.617144</td>\n",
              "    </tr>\n",
              "    <tr>\n",
              "      <th>min</th>\n",
              "      <td>0.000000</td>\n",
              "    </tr>\n",
              "    <tr>\n",
              "      <th>25%</th>\n",
              "      <td>3.000000</td>\n",
              "    </tr>\n",
              "    <tr>\n",
              "      <th>50%</th>\n",
              "      <td>18.000000</td>\n",
              "    </tr>\n",
              "    <tr>\n",
              "      <th>75%</th>\n",
              "      <td>70.000000</td>\n",
              "    </tr>\n",
              "    <tr>\n",
              "      <th>max</th>\n",
              "      <td>1801.000000</td>\n",
              "    </tr>\n",
              "  </tbody>\n",
              "</table>\n",
              "</div><br><label><b>dtype:</b> float64</label>"
            ]
          },
          "metadata": {},
          "execution_count": 11
        }
      ]
    },
    {
      "cell_type": "markdown",
      "source": [
        "## 숙소 유형 (영어 -> 한국어) 매핑"
      ],
      "metadata": {
        "id": "Qcn1fI9JIdxL"
      }
    },
    {
      "cell_type": "code",
      "source": [
        "type_map_kr = {\n",
        "    # 호텔 (3)\n",
        "    \"Room in hotel\": \"호텔 객실\",\n",
        "    \"Room in boutique hotel\": \"부티크 호텔 객실\",\n",
        "    \"Shared room in hotel\": \"호텔 다인실\",\n",
        "\n",
        "    # 호스텔 (3)\n",
        "    \"Room in hostel\": \"호스텔 객실\",\n",
        "    \"Private room in hostel\": \"호스텔 개인실\",\n",
        "    \"Shared room in hostel\": \"호스텔 다인실\",\n",
        "\n",
        "    # 아파트/콘도 (8)\n",
        "    \"Entire serviced apartment\": \"서비스드 아파트 전체\",\n",
        "    \"Room in serviced apartment\": \"서비스드 아파트 객실\",\n",
        "    \"Private room in serviced apartment\": \"서비스드 아파트 개인실\",\n",
        "    \"Shared room in serviced apartment\": \"서비스드 아파트 다인실\",\n",
        "    \"Room in aparthotel\": \"아파트형 호텔 객실\",\n",
        "    \"Entire condo\": \"콘도 전체\",\n",
        "    \"Private room in condo\": \"콘도 개인실\",\n",
        "    \"Shared room in condo\": \"콘도 다인실\",\n",
        "\n",
        "    # 가정집 (17)\n",
        "    \"Entire rental unit\": \"숙소 전체\",\n",
        "    \"Private room in rental unit\": \"독립된 개인 방\",\n",
        "    \"Private room in home\": \"주택 내 개인실\",\n",
        "    \"Shared room in home\": \"주택 내 다인실\",\n",
        "    \"Entire home\": \"주택 전체\",\n",
        "    \"Private room in townhouse\": \"연립주택 개인실\",\n",
        "    \"Entire townhouse\": \"연립주택 전체\",\n",
        "    \"Shared room in rental unit\": \"임대 주거 공간 다인실\",\n",
        "    \"Private room in villa\": \"빌라 개인실\",\n",
        "    \"Private room\": \"개인실\",\n",
        "    \"Entire home/apt\": \"주택/아파트 전체\",\n",
        "    \"Private room in vacation home\": \"휴가용 주택 개인실\",\n",
        "    \"Entire vacation home\": \"휴가용 주택 전체\",\n",
        "    \"Private room in loft\": \"로프트 개인실\",\n",
        "    \"Entire loft\": \"로프트 전체\",\n",
        "    \"Shared room in loft\": \"로프트 다인실\",\n",
        "    \"Entire villa\": \"빌라 전체\",\n",
        "\n",
        "    # 게스트하우스 (5)\n",
        "    \"Entire guesthouse\": \"게스트하우스 전체\",\n",
        "    \"Private room in guesthouse\": \"게스트하우스 개인실\",\n",
        "    \"Shared room in guesthouse\": \"게스트하우스 다인실\",\n",
        "    \"Entire guest suite\": \"게스트 스위트룸 전체\",\n",
        "    \"Private room in guest suite\": \"게스트 스위트룸 개인실\",\n",
        "\n",
        "    # 민박집 (7)\n",
        "    \"Shared room in bed and breakfast\": \"민박집 다인실\",\n",
        "    \"Private room in bed and breakfast\": \"민박집 개인실\",\n",
        "    \"Entire bed and breakfast\": \"민박집 전체\",\n",
        "    \"Room in bed and breakfast\": \"민박집 객실\",\n",
        "    \"Farm stay\": \"농가민박 전체\",\n",
        "    \"Private room in farm stay\": \"농가민박 개인실\",\n",
        "    \"Private room in pension\": \"펜션 개인실\",\n",
        "\n",
        "    # 별장 (6)\n",
        "    \"Entire cottage\": \"전원주택 전체\",\n",
        "    \"Entire chalet\": \"산간 별장 전체\",\n",
        "    \"Entire cabin\": \"산장 전체\",\n",
        "    \"Private room in cabin\": \"산장 개인실\",\n",
        "    \"Entire bungalow\": \"방갈로 전체\",\n",
        "    \"Tiny home\": \"소형 주택\",\n",
        "\n",
        "    # 이색 숙소 (16)\n",
        "    \"Houseboat\": \"하우스보트\",\n",
        "    \"Boat\": \"보트\",\n",
        "    \"Private room in boat\": \"보트 개인실\",\n",
        "    \"Camper/RV\": \"캠핑카/카라반\",\n",
        "    \"Private room in camper/rv\": \"캠핑카 개인실\",\n",
        "    \"Dome\": \"돔형 숙소\",\n",
        "    \"Private room in dome\": \"돔형 숙소 개인실\",\n",
        "    \"Hut\": \"오두막\",\n",
        "    \"Tent\": \"텐트\",\n",
        "    \"Yurt\": \"유르트\",\n",
        "    \"Private room in castle\": \"성 내부 개인실\",\n",
        "    \"Private room in tower\": \"탑 내부 개인실\",\n",
        "    \"Private room in casa particular\": \"카사 파르티쿨라르 개인실\",\n",
        "    \"Cave\": \"동굴 숙소\",\n",
        "    \"Private room in earthen home\": \"흙집 개인실\",\n",
        "    \"Barn\": \"헛간 개조 숙소\"\n",
        "}\n",
        "df_clean = df.copy()  # 원본 복사해서 df_clean 만들기\n",
        "\n",
        "df_clean[\"property_type_kr\"] = df_clean[\"property_type\"].map(type_map_kr)"
      ],
      "metadata": {
        "id": "OKhPh_dCIgJV"
      },
      "execution_count": 12,
      "outputs": []
    },
    {
      "cell_type": "markdown",
      "source": [
        "## 숙소 유형 top5 뽑아내기"
      ],
      "metadata": {
        "id": "SjNM40MHIqSX"
      }
    },
    {
      "cell_type": "code",
      "source": [
        "# 리뷰 수 기준 상위 5개 숙소 유형 선택\n",
        "top5_types = df_clean[\"property_type_kr\"].value_counts().nlargest(5).index\n",
        "\n",
        "# 해당 숙소 유형만 필터링\n",
        "df_top5 = df_clean[df_clean[\"property_type_kr\"].isin(top5_types)]\n",
        "\n",
        "print(df_top5[\"property_type_kr\"].value_counts())"
      ],
      "metadata": {
        "colab": {
          "base_uri": "https://localhost:8080/"
        },
        "id": "FbhMMzgTIsgS",
        "outputId": "7c4649a9-6564-45e4-f427-c8d8a5ae2425"
      },
      "execution_count": 13,
      "outputs": [
        {
          "output_type": "stream",
          "name": "stdout",
          "text": [
            "property_type_kr\n",
            "숙소 전체          6500\n",
            "독립된 개인 방       1229\n",
            "콘도 전체          1022\n",
            "서비스드 아파트 전체     896\n",
            "호텔 객실           282\n",
            "Name: count, dtype: int64\n"
          ]
        }
      ]
    },
    {
      "cell_type": "code",
      "source": [
        "import matplotlib.pyplot as plt\n",
        "import seaborn as sns\n",
        "import pandas as pd\n",
        "\n",
        "# -------------------------------\n",
        "# 데이터 집계: 숙소 유형별 가중 평균 평점 + 리뷰 수 평균\n",
        "# -------------------------------\n",
        "weighted_top5 = (\n",
        "    df_top5.groupby(\"property_type_kr\")\n",
        "    .apply(lambda x: (x[\"review_scores_rating\"] * x[\"number_of_reviews\"]).sum()\n",
        "                     / x[\"number_of_reviews\"].sum())\n",
        "    .reset_index(name=\"weighted_avg_rating\")\n",
        ")\n",
        "\n",
        "review_mean = (\n",
        "    df_top5.groupby(\"property_type_kr\")[\"number_of_reviews\"]\n",
        "    .mean()\n",
        "    .reset_index(name=\"review_mean\")\n",
        ")\n",
        "\n",
        "# merge\n",
        "weighted_top5 = pd.merge(weighted_top5, review_mean, on=\"property_type_kr\")\n",
        "\n",
        "# -------------------------------\n",
        "# 시각화\n",
        "# -------------------------------\n",
        "fig, ax1 = plt.subplots(figsize=(12,6))\n",
        "\n",
        "# 원하는 순서 지정\n",
        "type_order = [\"독립된 개인 방\", \"숙소 전체\", \"서비스드 아파트 전체\", \"콘도 전체\", \"호텔 객실\"]\n",
        "\n",
        "# 막대그래프: 가중 평균 평점\n",
        "sns.barplot(\n",
        "    data=weighted_top5,\n",
        "    x=\"property_type_kr\", y=\"weighted_avg_rating\",\n",
        "    order=type_order,\n",
        "    color=\"#FF5A5F\", alpha=0.8, ax=ax1\n",
        ")\n",
        "\n",
        "ax1.set_title(\"Top5 숙소 유형 (가중 평균 평점)\", fontsize=16, pad=15, fontweight=\"bold\")\n",
        "ax1.set_ylabel(\"가중 평균 평점\", fontsize=13, labelpad=15)\n",
        "ax1.set_xlabel(\"숙소 유형\", fontsize=13, labelpad=15)\n",
        "ax1.set_ylim(4.0, 5.1)\n",
        "ax1.tick_params(axis='x', rotation=20)\n",
        "\n",
        "# 막대 위에 수치 표시\n",
        "for container in ax1.containers:\n",
        "    ax1.bar_label(container, fmt=\"%.2f\", fontsize=9, padding=2)\n",
        "\n",
        "plt.tight_layout()\n",
        "plt.show()\n"
      ],
      "metadata": {
        "colab": {
          "base_uri": "https://localhost:8080/",
          "height": 524
        },
        "id": "r-LGGZWcItfI",
        "outputId": "98fb7f86-8f2f-479a-e17c-43a47f9c0452"
      },
      "execution_count": 14,
      "outputs": [
        {
          "output_type": "stream",
          "name": "stderr",
          "text": [
            "/tmp/ipython-input-2006254842.py:10: DeprecationWarning: DataFrameGroupBy.apply operated on the grouping columns. This behavior is deprecated, and in a future version of pandas the grouping columns will be excluded from the operation. Either pass `include_groups=False` to exclude the groupings or explicitly select the grouping columns after groupby to silence this warning.\n",
            "  .apply(lambda x: (x[\"review_scores_rating\"] * x[\"number_of_reviews\"]).sum()\n"
          ]
        },
        {
          "output_type": "display_data",
          "data": {
            "text/plain": [
              "<Figure size 1200x600 with 1 Axes>"
            ],
            "image/png": "[encoded data removed]"
          },
          "metadata": {}
        }
      ]
    },
    {
      "cell_type": "markdown",
      "source": [
        "## 숙소 유형 카테고리 매핑"
      ],
      "metadata": {
        "id": "Q_qZRzqOJv23"
      }
    },
    {
      "cell_type": "code",
      "source": [
        "# 숙소 유형 → 카테고리 매핑\n",
        "category_map = {\n",
        "    # 호텔 (3)\n",
        "    \"Room in hotel\": \"호텔\",\n",
        "    \"Room in boutique hotel\": \"호텔\",\n",
        "    \"Shared room in hotel\": \"호텔\",\n",
        "\n",
        "    # 호스텔 (3)\n",
        "    \"Room in hostel\": \"호스텔\",\n",
        "    \"Private room in hostel\": \"호스텔\",\n",
        "    \"Shared room in hostel\": \"호스텔\",\n",
        "\n",
        "    # 아파트/콘도 (8)\n",
        "    \"Entire serviced apartment\": \"아파트/콘도\",\n",
        "    \"Room in serviced apartment\": \"아파트/콘도\",\n",
        "    \"Private room in serviced apartment\": \"아파트/콘도\",\n",
        "    \"Shared room in serviced apartment\": \"아파트/콘도\",\n",
        "    \"Room in aparthotel\": \"아파트/콘도\",\n",
        "    \"Entire condo\": \"아파트/콘도\",\n",
        "    \"Private room in condo\": \"아파트/콘도\",\n",
        "    \"Shared room in condo\": \"아파트/콘도\",\n",
        "\n",
        "    # 가정집 (17)\n",
        "    \"Entire rental unit\": \"가정집\",\n",
        "    \"Private room in rental unit\": \"가정집\",\n",
        "    \"Private room in home\": \"가정집\",\n",
        "    \"Entire home\": \"가정집\",\n",
        "    \"Private room in townhouse\": \"가정집\",\n",
        "    \"Entire townhouse\": \"가정집\",\n",
        "    \"Shared room in rental unit\": \"가정집\",\n",
        "    \"Private room in villa\": \"가정집\",\n",
        "    \"Private room\": \"가정집\",\n",
        "    \"Entire home/apt\": \"가정집\",\n",
        "    \"Private room in vacation home\": \"가정집\",\n",
        "    \"Entire vacation home\": \"가정집\",\n",
        "    \"Private room in loft\": \"가정집\",\n",
        "    \"Entire loft\": \"가정집\",\n",
        "    \"Shared room in loft\": \"가정집\",\n",
        "    \"Shared room in home\": \"가정집\",\n",
        "    \"Entire villa\": \"가정집\",\n",
        "\n",
        "    # 게스트하우스 (5)\n",
        "    \"Entire guesthouse\": \"게스트하우스\",\n",
        "    \"Private room in guesthouse\": \"게스트하우스\",\n",
        "    \"Shared room in guesthouse\": \"게스트하우스\",\n",
        "    \"Entire guest suite\": \"게스트하우스\",\n",
        "    \"Private room in guest suite\": \"게스트하우스\",\n",
        "\n",
        "    # 민박집 (7)\n",
        "    \"Shared room in bed and breakfast\": \"민박집\",\n",
        "    \"Private room in bed and breakfast\": \"민박집\",\n",
        "    \"Entire bed and breakfast\": \"민박집\",\n",
        "    \"Room in bed and breakfast\": \"민박집\",\n",
        "    \"Farm stay\": \"민박집\",\n",
        "    \"Private room in farm stay\": \"민박집\",\n",
        "    \"Private room in pension\": \"민박집\",\n",
        "\n",
        "    # 별장 (6)\n",
        "    \"Entire cottage\": \"별장\",\n",
        "    \"Entire chalet\": \"별장\",\n",
        "    \"Entire cabin\": \"별장\",\n",
        "    \"Private room in cabin\": \"별장\",\n",
        "    \"Entire bungalow\": \"별장\",\n",
        "    \"Tiny home\": \"별장\",\n",
        "\n",
        "    # 이색 숙소 (16)\n",
        "    \"Houseboat\": \"이색 숙소\",\n",
        "    \"Boat\": \"이색 숙소\",\n",
        "    \"Private room in boat\": \"이색 숙소\",\n",
        "    \"Camper/RV\": \"이색 숙소\",\n",
        "    \"Private room in camper/rv\": \"이색 숙소\",\n",
        "    \"Dome\": \"이색 숙소\",\n",
        "    \"Private room in dome\": \"이색 숙소\",\n",
        "    \"Hut\": \"이색 숙소\",\n",
        "    \"Tent\": \"이색 숙소\",\n",
        "    \"Yurt\": \"이색 숙소\",\n",
        "    \"Private room in castle\": \"이색 숙소\",\n",
        "    \"Private room in tower\": \"이색 숙소\",\n",
        "    \"Private room in casa particular\": \"이색 숙소\",\n",
        "    \"Cave\": \"이색 숙소\",\n",
        "    \"Private room in earthen home\": \"이색 숙소\",\n",
        "    \"Barn\": \"이색 숙소\"\n",
        "}\n",
        "\n",
        "# 매핑 적용\n",
        "df_clean[\"property_category\"] = df_clean[\"property_type\"].map(category_map)\n",
        "df[\"property_category\"] = df[\"property_type\"].map(category_map)"
      ],
      "metadata": {
        "id": "xmwMwe9eJzve"
      },
      "execution_count": 15,
      "outputs": []
    },
    {
      "cell_type": "code",
      "source": [
        "import matplotlib.pyplot as plt\n",
        "import seaborn as sns\n",
        "import pandas as pd\n",
        "import matplotlib.ticker as mtick\n",
        "\n",
        "# 숙소 유형별 통계 집계\n",
        "stats = df_clean.groupby(\"property_category\")[\"review_scores_rating\"].agg([\"mean\", \"std\"]).reset_index()\n",
        "review_sum = df_clean.groupby(\"property_category\")[\"number_of_reviews\"].sum().reset_index(name=\"review_sum\")\n",
        "\n",
        "# 병합\n",
        "stats = stats.merge(review_sum, on=\"property_category\")\n",
        "\n",
        "# ✅ 컬럼명 한글화\n",
        "stats = stats.rename(columns={\n",
        "    \"property_category\": \"숙소 유형\",\n",
        "    \"std\": \"표준편차\"\n",
        "})\n",
        "\n",
        "# ---------------------------------\n",
        "# 🔹 팔레트 지정 (색상만 수정)\n",
        "# ---------------------------------\n",
        "custom_palette = {\n",
        "    \"아파트/콘도\": \"#fc5c62\",  # 빨강\n",
        "    \"가정집\": \"#00a699\",      # 청록\n",
        "}\n",
        "# 나머지 유형은 회색으로\n",
        "unique_types = stats[\"숙소 유형\"].unique()\n",
        "for t in unique_types:\n",
        "    if t not in custom_palette:\n",
        "        custom_palette[t] = \"#484848\"\n",
        "\n",
        "# 버블 차트 (총 리뷰 수 사용)\n",
        "plt.figure(figsize=(10,6))\n",
        "ax = sns.scatterplot(\n",
        "    data=stats,\n",
        "    x=\"mean\", y=\"review_sum\",\n",
        "    size=\"표준편차\", hue=\"숙소 유형\",\n",
        "    palette=custom_palette,\n",
        "    sizes=(50, 500), alpha=0.6, edgecolor=\"k\"\n",
        ")\n",
        "\n",
        "# ✅ y축 천 단위 표시\n",
        "ax.yaxis.set_major_formatter(mtick.FuncFormatter(lambda x, _: f\"{int(x):,}\"))\n",
        "\n",
        "# 값 표시 (숙소 이름)\n",
        "for i, row in stats.iterrows():\n",
        "    if row[\"숙소 유형\"] == \"가정집\":\n",
        "        plt.text(row[\"mean\"], row[\"review_sum\"] - 30000, \"가정집\",\n",
        "                 ha=\"center\", fontsize=9, color=\"black\")\n",
        "    elif row[\"숙소 유형\"] == \"아파트/콘도\":\n",
        "        plt.text(row[\"mean\"] + 0.01, row[\"review_sum\"], \"아파트/콘도\",\n",
        "                 ha=\"left\", fontsize=9, color=\"black\")\n",
        "    elif row[\"숙소 유형\"] == \"호텔\":\n",
        "        plt.text(row[\"mean\"], row[\"review_sum\"] + 21000, \"호텔\",\n",
        "                 ha=\"center\", fontsize=9, color=\"black\")\n",
        "    elif row[\"숙소 유형\"] == \"이색 숙소\":\n",
        "        plt.text(row[\"mean\"], row[\"review_sum\"] + 12000, \"이색 숙소\",\n",
        "                 ha=\"center\", fontsize=9, color=\"black\")\n",
        "    elif row[\"숙소 유형\"] == \"게스트하우스\":\n",
        "        plt.text(row[\"mean\"], row[\"review_sum\"] + 21000, \"게스트하우스\",\n",
        "                 ha=\"center\", fontsize=9, color=\"black\")\n",
        "    elif row[\"숙소 유형\"] == \"별장\":\n",
        "        plt.text(row[\"mean\"] + 0.01, row[\"review_sum\"], \"별장\",\n",
        "                 ha=\"left\", fontsize=9, color=\"black\")\n",
        "    elif row[\"숙소 유형\"] == \"민박집\":\n",
        "        plt.text(row[\"mean\"], row[\"review_sum\"] + 23000, \"민박집\",\n",
        "                 ha=\"center\", fontsize=9, color=\"black\")\n",
        "    elif row[\"숙소 유형\"] == \"호스텔\":\n",
        "        plt.text(row[\"mean\"] + 0.01, row[\"review_sum\"], \"호스텔\",\n",
        "                 ha=\"left\", fontsize=9, color=\"black\")\n",
        "    else:\n",
        "        plt.text(row[\"mean\"], row[\"review_sum\"] + 5000, row[\"숙소 유형\"],\n",
        "                 ha=\"center\", fontsize=9, color=\"black\")\n",
        "\n",
        "plt.title(\"카테고리별 숙소 유형 평점 ~ 총 리뷰수 비교\", fontsize=14, fontweight=\"bold\")\n",
        "plt.xlabel(\"평균 평점\")\n",
        "plt.ylabel(\"총 리뷰 수(단위: 건)\")\n",
        "plt.grid(True, linestyle=\"--\", alpha=0.5)\n",
        "plt.tight_layout()\n",
        "plt.show()\n"
      ],
      "metadata": {
        "colab": {
          "base_uri": "https://localhost:8080/",
          "height": 560
        },
        "id": "ztY6Q6ccIwFH",
        "outputId": "5ddc140d-a996-44d7-b731-851234565e4f"
      },
      "execution_count": 16,
      "outputs": [
        {
          "output_type": "display_data",
          "data": {
            "text/plain": [
              "<Figure size 1000x600 with 1 Axes>"
            ],
            "image/png": "[encoded data removed]"
          },
          "metadata": {}
        }
      ]
    },
    {
      "cell_type": "code",
      "source": [],
      "metadata": {
        "id": "E6yJ-uAfJECE"
      },
      "execution_count": null,
      "outputs": []
    }
  ]
}