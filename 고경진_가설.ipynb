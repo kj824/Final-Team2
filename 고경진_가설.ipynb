{
  "nbformat": 4,
  "nbformat_minor": 0,
  "metadata": {
    "colab": {
      "provenance": [],
      "mount_file_id": "1blYWirVbKDKfolbmTy3M1zVeT5OMeZEH",
      "authorship_tag": "ABX9TyMal7Uggnygeof4t4dDkpR7",
      "include_colab_link": true
    },
    "kernelspec": {
      "name": "python3",
      "display_name": "Python 3"
    },
    "language_info": {
      "name": "python"
    }
  },
  "cells": [
    {
      "cell_type": "markdown",
      "metadata": {
        "id": "view-in-github",
        "colab_type": "text"
      },
      "source": [
        "<a href=\"https://colab.research.google.com/github/kj824/Final-Team2/blob/main/%EA%B3%A0%EA%B2%BD%EC%A7%84_%EA%B0%80%EC%84%A4.ipynb\" target=\"_parent\"><img src=\"https://colab.research.google.com/assets/colab-badge.svg\" alt=\"Open In Colab\"/></a>"
      ]
    },
    {
      "cell_type": "code",
      "execution_count": 1,
      "metadata": {
        "id": "yEIBvFpJcplr"
      },
      "outputs": [],
      "source": [
        "import pandas as pd\n",
        "import numpy as np\n",
        "\n",
        "df = pd.read_csv(\"/content/drive/MyDrive/Colab Notebooks/파이널프로젝트/combined_dataset.csv\")"
      ]
    },
    {
      "cell_type": "code",
      "source": [
        "%%capture\n",
        "# 폰트 설치\n",
        "!sudo apt-get install -y fonts-nanum\n",
        "!sudo fc-cache -fv\n",
        "!rm ~/.cache/matplotlib -rf\n",
        "\n",
        "# 필요한 라이브러리 임포트\n",
        "import pandas as pd\n",
        "import matplotlib.pyplot as plt\n",
        "import seaborn as sns\n",
        "\n",
        "# 폰트 설정\n",
        "plt.rc('font', family='NanumGothic')\n",
        "plt.rcParams['axes.unicode_minus'] = False\n",
        "\n",
        "%%capture\n",
        "!sudo apt-get install -y fonts-nanum\n",
        "!sudo fc-cache -fv\n",
        "!rm ~/.cache/matplotlib -rf\n",
        "\n",
        "import matplotlib.pyplot as plt\n",
        "import matplotlib.font_manager as fm\n",
        "fm.fontManager.addfont('/usr/share/fonts/truetype/nanum/NanumGothic.ttf')\n",
        "plt.rcParams['font.family'] = 'NanumGothic'"
      ],
      "metadata": {
        "id": "sCC5iZxmczoR"
      },
      "execution_count": 2,
      "outputs": []
    },
    {
      "cell_type": "markdown",
      "source": [
        "---\n",
        "\n",
        "#호스트 등급에 따른 숙소 평점 분포\n",
        "###\n",
        " 가설: 호스트 등급에 따라 숙소 유형별 평점 분포에서 차이가 있으며, 슈퍼호스트일수록 유형에 관계없이 높은 평점을 유지할 것이다."
      ],
      "metadata": {
        "id": "H5SZBHPEc0k8"
      }
    },
    {
      "cell_type": "markdown",
      "source": [
        "신규호스트 vs 일반호스트 vs 슈퍼호스트 간의 숙소 유형별 평점 차이\n",
        "- 신규호스트 리뷰 수 5개 미만으로 두고\n",
        "- 일반호스트는 리뷰 5개 이상\n",
        "- 슈퍼호스트는 그 이상\n",
        "\n",
        "정리\n",
        "- 신규호스트는 리뷰 적은 초보 호스트\n",
        "- 일반호스트는 리뷰는 어느정도 있지만 아직 슈퍼호스트는 아닌 단계\n",
        "- 슈퍼호스트는 에어비앤비의 기준을 충족함"
      ],
      "metadata": {
        "id": "jTvJeHt4c5c2"
      }
    },
    {
      "cell_type": "markdown",
      "source": [
        "컬럼\n",
        "- property_type : 숙소 유형\n",
        "- number_of_reviews : 전체 리뷰 수\n",
        "- review_scores_rating : 전체 평점"
      ],
      "metadata": {
        "id": "GjFuPToLc7jg"
      }
    },
    {
      "cell_type": "markdown",
      "source": [
        "## 데이터 확인 및 결측치 제거"
      ],
      "metadata": {
        "id": "KP3qkUbyfeww"
      }
    },
    {
      "cell_type": "code",
      "source": [
        "#리뷰 수\n",
        "df['number_of_reviews'].value_counts()"
      ],
      "metadata": {
        "colab": {
          "base_uri": "https://localhost:8080/",
          "height": 489
        },
        "collapsed": true,
        "id": "2J89UIZOc40Z",
        "outputId": "41fd4f4c-5a02-4337-adb9-a975c5bc3644"
      },
      "execution_count": 3,
      "outputs": [
        {
          "output_type": "execute_result",
          "data": {
            "text/plain": [
              "number_of_reviews\n",
              "0      1497\n",
              "1       654\n",
              "2       536\n",
              "3       403\n",
              "5       293\n",
              "       ... \n",
              "355       1\n",
              "541       1\n",
              "634       1\n",
              "506       1\n",
              "336       1\n",
              "Name: count, Length: 522, dtype: int64"
            ],
            "text/html": [
              "<div>\n",
              "<style scoped>\n",
              "    .dataframe tbody tr th:only-of-type {\n",
              "        vertical-align: middle;\n",
              "    }\n",
              "\n",
              "    .dataframe tbody tr th {\n",
              "        vertical-align: top;\n",
              "    }\n",
              "\n",
              "    .dataframe thead th {\n",
              "        text-align: right;\n",
              "    }\n",
              "</style>\n",
              "<table border=\"1\" class=\"dataframe\">\n",
              "  <thead>\n",
              "    <tr style=\"text-align: right;\">\n",
              "      <th></th>\n",
              "      <th>count</th>\n",
              "    </tr>\n",
              "    <tr>\n",
              "      <th>number_of_reviews</th>\n",
              "      <th></th>\n",
              "    </tr>\n",
              "  </thead>\n",
              "  <tbody>\n",
              "    <tr>\n",
              "      <th>0</th>\n",
              "      <td>1497</td>\n",
              "    </tr>\n",
              "    <tr>\n",
              "      <th>1</th>\n",
              "      <td>654</td>\n",
              "    </tr>\n",
              "    <tr>\n",
              "      <th>2</th>\n",
              "      <td>536</td>\n",
              "    </tr>\n",
              "    <tr>\n",
              "      <th>3</th>\n",
              "      <td>403</td>\n",
              "    </tr>\n",
              "    <tr>\n",
              "      <th>5</th>\n",
              "      <td>293</td>\n",
              "    </tr>\n",
              "    <tr>\n",
              "      <th>...</th>\n",
              "      <td>...</td>\n",
              "    </tr>\n",
              "    <tr>\n",
              "      <th>355</th>\n",
              "      <td>1</td>\n",
              "    </tr>\n",
              "    <tr>\n",
              "      <th>541</th>\n",
              "      <td>1</td>\n",
              "    </tr>\n",
              "    <tr>\n",
              "      <th>634</th>\n",
              "      <td>1</td>\n",
              "    </tr>\n",
              "    <tr>\n",
              "      <th>506</th>\n",
              "      <td>1</td>\n",
              "    </tr>\n",
              "    <tr>\n",
              "      <th>336</th>\n",
              "      <td>1</td>\n",
              "    </tr>\n",
              "  </tbody>\n",
              "</table>\n",
              "<p>522 rows × 1 columns</p>\n",
              "</div><br><label><b>dtype:</b> int64</label>"
            ]
          },
          "metadata": {},
          "execution_count": 3
        }
      ]
    },
    {
      "cell_type": "code",
      "source": [
        "df['number_of_reviews'].isna().sum()"
      ],
      "metadata": {
        "colab": {
          "base_uri": "https://localhost:8080/"
        },
        "id": "u5W5r_WPc_JS",
        "outputId": "a5dbbd88-ae00-4667-bcc7-3285809065fd"
      },
      "execution_count": 4,
      "outputs": [
        {
          "output_type": "execute_result",
          "data": {
            "text/plain": [
              "np.int64(0)"
            ]
          },
          "metadata": {},
          "execution_count": 4
        }
      ]
    },
    {
      "cell_type": "code",
      "source": [
        "df['property_type'].isna().sum()"
      ],
      "metadata": {
        "colab": {
          "base_uri": "https://localhost:8080/"
        },
        "id": "n0q6F7rfdC5K",
        "outputId": "058c8952-468b-48fb-91fa-caf5c633a024"
      },
      "execution_count": 5,
      "outputs": [
        {
          "output_type": "execute_result",
          "data": {
            "text/plain": [
              "np.int64(0)"
            ]
          },
          "metadata": {},
          "execution_count": 5
        }
      ]
    },
    {
      "cell_type": "code",
      "source": [
        "df['review_scores_rating'].isna(). sum()"
      ],
      "metadata": {
        "colab": {
          "base_uri": "https://localhost:8080/"
        },
        "id": "Z1_BGOO-dC7k",
        "outputId": "f2e88da3-98ac-4c45-a270-60dc1b37c010"
      },
      "execution_count": 6,
      "outputs": [
        {
          "output_type": "execute_result",
          "data": {
            "text/plain": [
              "np.int64(1495)"
            ]
          },
          "metadata": {},
          "execution_count": 6
        }
      ]
    },
    {
      "cell_type": "code",
      "source": [
        "df['review_scores_rating'].describe()"
      ],
      "metadata": {
        "colab": {
          "base_uri": "https://localhost:8080/",
          "height": 335
        },
        "id": "tFh_XIgMdC9s",
        "outputId": "dcff7952-2b85-4eb2-e8fc-8c19dd869b0e"
      },
      "execution_count": 7,
      "outputs": [
        {
          "output_type": "execute_result",
          "data": {
            "text/plain": [
              "count    9951.000000\n",
              "mean        4.682039\n",
              "std         0.434840\n",
              "min         0.000000\n",
              "25%         4.590000\n",
              "50%         4.800000\n",
              "75%         4.930000\n",
              "max         5.000000\n",
              "Name: review_scores_rating, dtype: float64"
            ],
            "text/html": [
              "<div>\n",
              "<style scoped>\n",
              "    .dataframe tbody tr th:only-of-type {\n",
              "        vertical-align: middle;\n",
              "    }\n",
              "\n",
              "    .dataframe tbody tr th {\n",
              "        vertical-align: top;\n",
              "    }\n",
              "\n",
              "    .dataframe thead th {\n",
              "        text-align: right;\n",
              "    }\n",
              "</style>\n",
              "<table border=\"1\" class=\"dataframe\">\n",
              "  <thead>\n",
              "    <tr style=\"text-align: right;\">\n",
              "      <th></th>\n",
              "      <th>review_scores_rating</th>\n",
              "    </tr>\n",
              "  </thead>\n",
              "  <tbody>\n",
              "    <tr>\n",
              "      <th>count</th>\n",
              "      <td>9951.000000</td>\n",
              "    </tr>\n",
              "    <tr>\n",
              "      <th>mean</th>\n",
              "      <td>4.682039</td>\n",
              "    </tr>\n",
              "    <tr>\n",
              "      <th>std</th>\n",
              "      <td>0.434840</td>\n",
              "    </tr>\n",
              "    <tr>\n",
              "      <th>min</th>\n",
              "      <td>0.000000</td>\n",
              "    </tr>\n",
              "    <tr>\n",
              "      <th>25%</th>\n",
              "      <td>4.590000</td>\n",
              "    </tr>\n",
              "    <tr>\n",
              "      <th>50%</th>\n",
              "      <td>4.800000</td>\n",
              "    </tr>\n",
              "    <tr>\n",
              "      <th>75%</th>\n",
              "      <td>4.930000</td>\n",
              "    </tr>\n",
              "    <tr>\n",
              "      <th>max</th>\n",
              "      <td>5.000000</td>\n",
              "    </tr>\n",
              "  </tbody>\n",
              "</table>\n",
              "</div><br><label><b>dtype:</b> float64</label>"
            ]
          },
          "metadata": {},
          "execution_count": 7
        }
      ]
    },
    {
      "cell_type": "code",
      "source": [
        "#결측치, 0점 제거\n",
        "df_clean = df[\n",
        "    (df[\"review_scores_rating\"].notna()) &\n",
        "    (df[\"review_scores_rating\"] > 0)\n",
        "].copy()"
      ],
      "metadata": {
        "id": "_O2FfGGIdC_7"
      },
      "execution_count": 8,
      "outputs": []
    },
    {
      "cell_type": "markdown",
      "source": [
        "## 숙소 유형 확인 및 Top5 만 뽑아내기"
      ],
      "metadata": {
        "id": "Wcx7XKOae5Hm"
      }
    },
    {
      "cell_type": "code",
      "source": [
        "df['property_type'].unique()"
      ],
      "metadata": {
        "colab": {
          "base_uri": "https://localhost:8080/"
        },
        "id": "XNYnns8maxZ-",
        "outputId": "66a6713d-9f50-4b54-dd15-07f83fc0209c"
      },
      "execution_count": 9,
      "outputs": [
        {
          "output_type": "execute_result",
          "data": {
            "text/plain": [
              "array(['Entire rental unit', 'Entire serviced apartment',\n",
              "       'Private room in rental unit', 'Entire condo', 'Entire loft',\n",
              "       'Room in aparthotel', 'Shared room in bed and breakfast',\n",
              "       'Private room in bed and breakfast', 'Room in serviced apartment',\n",
              "       'Entire guest suite', 'Private room in serviced apartment',\n",
              "       'Private room in home', 'Private room in condo',\n",
              "       'Room in boutique hotel', 'Entire home', 'Private room in loft',\n",
              "       'Private room in townhouse', 'Room in hotel', 'Entire townhouse',\n",
              "       'Shared room in hostel', 'Houseboat', 'Entire bed and breakfast',\n",
              "       'Private room in guest suite', 'Boat', 'Entire villa',\n",
              "       'Shared room in rental unit', 'Private room in villa',\n",
              "       'Private room in hostel', 'Room in bed and breakfast',\n",
              "       'Room in hostel', 'Private room', 'Entire guesthouse', 'Tiny home',\n",
              "       'Shared room in condo', 'Entire cottage', 'Entire place',\n",
              "       'Private room in boat', 'Entire cabin',\n",
              "       'Private room in farm stay', 'Camper/RV', 'Entire bungalow',\n",
              "       'Private room in cabin', 'Dome', 'Cave', 'Private room in pension',\n",
              "       'Entire vacation home', 'Hut', 'Farm stay',\n",
              "       'Shared room in serviced apartment', 'Tent',\n",
              "       'Private room in guesthouse', 'Shared room in guesthouse',\n",
              "       'Shared room in home', 'Private room in castle',\n",
              "       'Private room in dome', 'Yurt', 'Private room in vacation home',\n",
              "       'Private room in tower', 'Private room in casa particular',\n",
              "       'Entire home/apt', 'Private room in camper/rv', 'Entire chalet',\n",
              "       'Shared room in loft', 'Shared room in hotel',\n",
              "       'Private room in earthen home'], dtype=object)"
            ]
          },
          "metadata": {},
          "execution_count": 9
        }
      ]
    },
    {
      "cell_type": "code",
      "source": [
        "# 숙소 유형별 빈도 (내림차순)\n",
        "type_counts = df_clean[\"property_type\"].value_counts()\n",
        "\n",
        "print(type_counts.head(10))   # 상위 10개\n",
        "print(\"\\n전체 유형 개수:\", df_clean[\"property_type\"].nunique())"
      ],
      "metadata": {
        "colab": {
          "base_uri": "https://localhost:8080/"
        },
        "id": "RYSft-gjaXFI",
        "outputId": "8d6f7aa2-284a-44e1-d956-5cb119575842"
      },
      "execution_count": 10,
      "outputs": [
        {
          "output_type": "stream",
          "name": "stdout",
          "text": [
            "property_type\n",
            "Entire rental unit             5752\n",
            "Entire condo                    957\n",
            "Private room in rental unit     907\n",
            "Entire serviced apartment       831\n",
            "Room in hotel                   192\n",
            "Private room in condo           167\n",
            "Entire loft                     156\n",
            "Private room in home            114\n",
            "Entire home                     109\n",
            "Room in boutique hotel           81\n",
            "Name: count, dtype: int64\n",
            "\n",
            "전체 유형 개수: 56\n"
          ]
        }
      ]
    },
    {
      "cell_type": "code",
      "source": [
        "# 리뷰 수 기준 상위 5개 숙소 유형 선택\n",
        "top5_types = df_clean[\"property_type\"].value_counts().nlargest(5).index\n",
        "\n",
        "# 해당 숙소 유형만 필터링\n",
        "df_top5 = df_clean[df_clean[\"property_type\"].isin(top5_types)]\n",
        "\n",
        "print(df_top5[\"property_type\"].value_counts())"
      ],
      "metadata": {
        "colab": {
          "base_uri": "https://localhost:8080/"
        },
        "id": "jyWNVN-hokoC",
        "outputId": "2917a488-22ef-48f6-d49a-b3325585c759"
      },
      "execution_count": 11,
      "outputs": [
        {
          "output_type": "stream",
          "name": "stdout",
          "text": [
            "property_type\n",
            "Entire rental unit             5752\n",
            "Entire condo                    957\n",
            "Private room in rental unit     907\n",
            "Entire serviced apartment       831\n",
            "Room in hotel                   192\n",
            "Name: count, dtype: int64\n"
          ]
        }
      ]
    },
    {
      "cell_type": "markdown",
      "source": [
        "## 호스트 분류 - 신규/일반/슈퍼"
      ],
      "metadata": {
        "id": "cGBiBSIyfWyR"
      }
    },
    {
      "cell_type": "code",
      "source": [
        "# 호스트 레벨 분류 함수\n",
        "def classify_host(row):\n",
        "    if row[\"host_is_superhost\"] == \"t\":   # 슈퍼호스트\n",
        "        return \"슈퍼호스트\"\n",
        "    elif row[\"number_of_reviews\"] < 5:    # 리뷰 5개 미만\n",
        "        return \"신규호스트\"\n",
        "    else:                                 # 나머지\n",
        "        return \"일반호스트\"\n",
        "\n",
        "# 새로운 컬럼 생성\n",
        "df_clean[\"host_level\"] = df.apply(classify_host, axis=1)\n",
        "\n",
        "# 결과 확인\n",
        "print(df_clean[\"host_level\"].value_counts())"
      ],
      "metadata": {
        "colab": {
          "base_uri": "https://localhost:8080/"
        },
        "id": "4QXdZfutdJds",
        "outputId": "23474657-36db-4364-b89e-4eff8971255a"
      },
      "execution_count": 12,
      "outputs": [
        {
          "output_type": "stream",
          "name": "stdout",
          "text": [
            "host_level\n",
            "일반호스트    4484\n",
            "슈퍼호스트    3906\n",
            "신규호스트    1556\n",
            "Name: count, dtype: int64\n"
          ]
        }
      ]
    },
    {
      "cell_type": "code",
      "source": [
        "#숙소 유형별 호스트 등급 분포\n",
        "df_clean.groupby([\"property_type\", \"host_level\"]).size()"
      ],
      "metadata": {
        "colab": {
          "base_uri": "https://localhost:8080/",
          "height": 489
        },
        "id": "0ySaCWIydJgT",
        "outputId": "e83699f0-a43b-45d0-d57a-eb4a7862c109"
      },
      "execution_count": 13,
      "outputs": [
        {
          "output_type": "execute_result",
          "data": {
            "text/plain": [
              "property_type                      host_level\n",
              "Boat                               신규호스트         1\n",
              "Camper/RV                          신규호스트         4\n",
              "                                   일반호스트         4\n",
              "Cave                               슈퍼호스트         1\n",
              "Entire bed and breakfast           일반호스트         1\n",
              "                                                ..\n",
              "Shared room in serviced apartment  슈퍼호스트         1\n",
              "                                   일반호스트         1\n",
              "Tent                               신규호스트         1\n",
              "Tiny home                          슈퍼호스트         5\n",
              "                                   일반호스트         3\n",
              "Length: 123, dtype: int64"
            ],
            "text/html": [
              "<div>\n",
              "<style scoped>\n",
              "    .dataframe tbody tr th:only-of-type {\n",
              "        vertical-align: middle;\n",
              "    }\n",
              "\n",
              "    .dataframe tbody tr th {\n",
              "        vertical-align: top;\n",
              "    }\n",
              "\n",
              "    .dataframe thead th {\n",
              "        text-align: right;\n",
              "    }\n",
              "</style>\n",
              "<table border=\"1\" class=\"dataframe\">\n",
              "  <thead>\n",
              "    <tr style=\"text-align: right;\">\n",
              "      <th></th>\n",
              "      <th></th>\n",
              "      <th>0</th>\n",
              "    </tr>\n",
              "    <tr>\n",
              "      <th>property_type</th>\n",
              "      <th>host_level</th>\n",
              "      <th></th>\n",
              "    </tr>\n",
              "  </thead>\n",
              "  <tbody>\n",
              "    <tr>\n",
              "      <th>Boat</th>\n",
              "      <th>신규호스트</th>\n",
              "      <td>1</td>\n",
              "    </tr>\n",
              "    <tr>\n",
              "      <th rowspan=\"2\" valign=\"top\">Camper/RV</th>\n",
              "      <th>신규호스트</th>\n",
              "      <td>4</td>\n",
              "    </tr>\n",
              "    <tr>\n",
              "      <th>일반호스트</th>\n",
              "      <td>4</td>\n",
              "    </tr>\n",
              "    <tr>\n",
              "      <th>Cave</th>\n",
              "      <th>슈퍼호스트</th>\n",
              "      <td>1</td>\n",
              "    </tr>\n",
              "    <tr>\n",
              "      <th>Entire bed and breakfast</th>\n",
              "      <th>일반호스트</th>\n",
              "      <td>1</td>\n",
              "    </tr>\n",
              "    <tr>\n",
              "      <th>...</th>\n",
              "      <th>...</th>\n",
              "      <td>...</td>\n",
              "    </tr>\n",
              "    <tr>\n",
              "      <th rowspan=\"2\" valign=\"top\">Shared room in serviced apartment</th>\n",
              "      <th>슈퍼호스트</th>\n",
              "      <td>1</td>\n",
              "    </tr>\n",
              "    <tr>\n",
              "      <th>일반호스트</th>\n",
              "      <td>1</td>\n",
              "    </tr>\n",
              "    <tr>\n",
              "      <th>Tent</th>\n",
              "      <th>신규호스트</th>\n",
              "      <td>1</td>\n",
              "    </tr>\n",
              "    <tr>\n",
              "      <th rowspan=\"2\" valign=\"top\">Tiny home</th>\n",
              "      <th>슈퍼호스트</th>\n",
              "      <td>5</td>\n",
              "    </tr>\n",
              "    <tr>\n",
              "      <th>일반호스트</th>\n",
              "      <td>3</td>\n",
              "    </tr>\n",
              "  </tbody>\n",
              "</table>\n",
              "<p>123 rows × 1 columns</p>\n",
              "</div><br><label><b>dtype:</b> int64</label>"
            ]
          },
          "metadata": {},
          "execution_count": 13
        }
      ]
    },
    {
      "cell_type": "markdown",
      "source": [
        "## 숙소 유형 + 호스트 등급 별 리뷰 mean/sum/count"
      ],
      "metadata": {
        "id": "T1OtFRXsehJO"
      }
    },
    {
      "cell_type": "code",
      "source": [
        "# 숙소 유형 + 호스트 등급별 리뷰 평균 집계\n",
        "df_top5 = df_clean[df_clean['property_type'].isin(top5_types)].copy()\n",
        "review_table = (\n",
        "    df_top5.groupby([\"property_type\", \"host_level\"])[\"number_of_reviews\"]\n",
        "    .mean()\n",
        "    .reset_index()\n",
        "    .pivot(index=\"property_type\", columns=\"host_level\", values=\"number_of_reviews\")\n",
        "    .fillna(0)\n",
        "    .astype(int)\n",
        ")\n",
        "\n",
        "print(review_table)"
      ],
      "metadata": {
        "colab": {
          "base_uri": "https://localhost:8080/"
        },
        "id": "9bK-V60y2WtT",
        "outputId": "e94d446d-ca9f-45f8-80db-756cf09ea9bb"
      },
      "execution_count": 14,
      "outputs": [
        {
          "output_type": "stream",
          "name": "stdout",
          "text": [
            "host_level                   슈퍼호스트  신규호스트  일반호스트\n",
            "property_type                                   \n",
            "Entire condo                    85      2     52\n",
            "Entire rental unit             107      2     78\n",
            "Entire serviced apartment       57      2     40\n",
            "Private room in rental unit    110      2     67\n",
            "Room in hotel                  107      2     27\n"
          ]
        }
      ]
    },
    {
      "cell_type": "code",
      "source": [
        "# 숙소 유형 + 호스트 등급별 리뷰 합계 집계\n",
        "review_table = (\n",
        "    df_top5.groupby([\"property_type\", \"host_level\"])[\"number_of_reviews\"]\n",
        "    .sum()\n",
        "    .reset_index()\n",
        "    .pivot(index=\"property_type\", columns=\"host_level\", values=\"number_of_reviews\")\n",
        "    .fillna(0)\n",
        "    .astype(int)\n",
        ")\n",
        "\n",
        "print(review_table)"
      ],
      "metadata": {
        "colab": {
          "base_uri": "https://localhost:8080/"
        },
        "id": "GKLLkBun3zCy",
        "outputId": "da2f932e-b2f1-4435-b047-781b713e9592"
      },
      "execution_count": 15,
      "outputs": [
        {
          "output_type": "stream",
          "name": "stdout",
          "text": [
            "host_level                    슈퍼호스트  신규호스트   일반호스트\n",
            "property_type                                     \n",
            "Entire condo                  41487    175   20509\n",
            "Entire rental unit           253519   1706  205377\n",
            "Entire serviced apartment     30738    141    9552\n",
            "Private room in rental unit   17105    570   32410\n",
            "Room in hotel                  2369    145    2734\n"
          ]
        }
      ]
    },
    {
      "cell_type": "code",
      "source": [
        "# 숙소 유형 + 호스트 등급별 리뷰 개수 집계\n",
        "review_table = (\n",
        "    df_top5.groupby([\"property_type\", \"host_level\"])[\"number_of_reviews\"]\n",
        "    .count()\n",
        "    .reset_index()\n",
        "    .pivot(index=\"property_type\", columns=\"host_level\", values=\"number_of_reviews\")\n",
        "    .fillna(0)\n",
        "    .astype(int)\n",
        ")\n",
        "\n",
        "print(review_table)"
      ],
      "metadata": {
        "colab": {
          "base_uri": "https://localhost:8080/"
        },
        "id": "d8Bc_Mwq3_TH",
        "outputId": "8eb4fbcb-f061-4254-cd1e-05802c8e3ba2"
      },
      "execution_count": 16,
      "outputs": [
        {
          "output_type": "stream",
          "name": "stdout",
          "text": [
            "host_level                   슈퍼호스트  신규호스트  일반호스트\n",
            "property_type                                   \n",
            "Entire condo                   487     82    388\n",
            "Entire rental unit            2354    784   2614\n",
            "Entire serviced apartment      537     59    235\n",
            "Private room in rental unit    155    273    479\n",
            "Room in hotel                   22     71     99\n"
          ]
        }
      ]
    },
    {
      "cell_type": "markdown",
      "source": [
        "## 시각화"
      ],
      "metadata": {
        "id": "wkrl-BDoeduD"
      }
    },
    {
      "cell_type": "code",
      "source": [
        "import matplotlib.pyplot as plt\n",
        "import seaborn as sns\n",
        "import pandas as pd\n",
        "\n",
        "# 숙소 유형 + 호스트 레벨별 집계\n",
        "grouped = (\n",
        "    df_top5.groupby([\"property_type\", \"host_level\"])\n",
        "    .agg(\n",
        "        avg_rating=(\"review_scores_rating\", \"mean\"),        # 평균 평점\n",
        "        review_mean=(\"number_of_reviews\", \"mean\"),        # 숙소당 평균 리뷰 수\n",
        "        host_count=(\"id\", \"count\")              # 숙소 개수\n",
        "    )\n",
        "    .reset_index()\n",
        ")\n",
        "grouped = grouped.rename(columns={\"property_type\": \"숙소 유형\"})\n",
        "\n",
        "# 시각화\n",
        "fig, ax1 = plt.subplots(figsize=(12,6))\n",
        "\n",
        "# 막대: 리뷰 총합\n",
        "sns.barplot(\n",
        "    data=grouped,\n",
        "    x=\"숙소 유형\", y=\"review_mean\", hue=\"host_level\",\n",
        "    ax=ax1, alpha=0.7\n",
        ")\n",
        "ax1.set_ylabel(\"리뷰 개수 (평균)\", fontsize = 13, labelpad=15)\n",
        "ax1.tick_params(axis=\"y\", labelsize=12)\n",
        "\n",
        "# 막대 위에 숫자 표시\n",
        "for p in ax1.patches:\n",
        "    height = p.get_height()\n",
        "    if height > 0:\n",
        "        ax1.text(\n",
        "            p.get_x() + p.get_width()/2, height + (height*0.01),\n",
        "            f\"{int(height)}\", ha=\"center\", va=\"bottom\", fontsize=12, color=\"black\"\n",
        "        )\n",
        "\n",
        "# 선: 평균 평점 (이중축)\n",
        "ax2 = ax1.twinx()\n",
        "sns.lineplot(\n",
        "    data=grouped,\n",
        "    x=\"숙소 유형\", y=\"avg_rating\", hue=\"host_level\",\n",
        "    marker=\"o\", ax=ax2\n",
        ")\n",
        "ax2.set_ylabel(\"평균 평점\", fontsize = 13, labelpad=15)\n",
        "ax2.set_ylim(3.5, 5.0)\n",
        "ax2.tick_params(axis=\"y\", labelsize=12)\n",
        "\n",
        "ax2.get_legend().remove()  # 보조축 범례 제거\n",
        "ax1.legend(\n",
        "    title=\"호스트 등급\",   # 범례 제목\n",
        "    loc=\"upper left\",      # 위치\n",
        "    fontsize=10,           # 글자 크기\n",
        "    title_fontsize=11      # 제목 글자 크기\n",
        ")\n",
        "\n",
        "plt.title(\"Top5 숙소 유형별 호스트 등급 (리뷰 개수 vs 평균 평점)\", fontsize=16, pad = 15, fontweight='bold')\n",
        "ax1.tick_params(axis=\"x\", labelsize=11)   # X축 글자 크기\n",
        "ax1.set_xlabel(\"숙소 유형\", labelpad=15, fontsize = 13)\n",
        "fig.tight_layout()\n",
        "plt.show()\n"
      ],
      "metadata": {
        "colab": {
          "base_uri": "https://localhost:8080/",
          "height": 485
        },
        "id": "u2uximhcpkgl",
        "outputId": "de12b972-d5c8-4dbb-b556-bbbbdc648d63"
      },
      "execution_count": 17,
      "outputs": [
        {
          "output_type": "display_data",
          "data": {
            "text/plain": [
              "<Figure size 1200x600 with 2 Axes>"
            ],
            "image/png": "[encoded data removed]"
          },
          "metadata": {}
        }
      ]
    },
    {
      "cell_type": "markdown",
      "source": [
        "인사이트\n",
        "- 신규 호스트는 모든 숙소 유형에서 평균 리뷰 2개 내외, 최대 4개 수준으로 매우 적음\n",
        "    - 초기 평점이 불안정하며, 숙소 유형별로 평점 편차가 크게 나타남\n",
        "- 일반호스트는 리뷰 수가 쌓여 평균 평점이 안정화 되어있음\n",
        "    - 슈퍼호스트보다는 다소 낮지만 신규호스트 대비 신뢰성이 높음\n",
        "- 슈퍼호스트는 대부분의 유형에서 가장 높은 평점을 유지하고 리뷰 수도 압도적으로 많음\n",
        "    - 다만 일부 유형에서는 신규/일반 대비 큰 차이가 없는 경우도 있어 지속적인 관리가 필요 (Entire condo, Entire serviced apartment property_type)"
      ],
      "metadata": {
        "id": "Q7D0lQckOkB_"
      }
    },
    {
      "cell_type": "markdown",
      "source": [
        "## 신규호스트 필터링"
      ],
      "metadata": {
        "id": "h3N6zZa9kWVJ"
      }
    },
    {
      "cell_type": "code",
      "source": [
        "# 숙소 유형 + 호스트 등급별 집계\n",
        "grouped = (\n",
        "    df_top5.groupby([\"property_type\", \"host_level\"])\n",
        "    .agg(\n",
        "        avg_rating=(\"review_scores_rating\", \"mean\"),   # 평균 평점\n",
        "        review_mean=(\"number_of_reviews\", \"mean\"),     # 숙소당 평균 리뷰 수\n",
        "        review_max=(\"number_of_reviews\", \"max\"),       # 숙소당 리뷰 수 최댓값\n",
        "        host_count=(\"number_of_reviews\", \"count\")      # 숙소 개수\n",
        "    )\n",
        "    .reset_index()\n",
        ")\n",
        "\n",
        "print(grouped)"
      ],
      "metadata": {
        "colab": {
          "base_uri": "https://localhost:8080/"
        },
        "id": "Ltvzf9CdTaPp",
        "outputId": "c79831ab-17a2-4934-f935-ddcbf122ccd8"
      },
      "execution_count": 18,
      "outputs": [
        {
          "output_type": "stream",
          "name": "stdout",
          "text": [
            "                  property_type host_level  avg_rating  review_mean  \\\n",
            "0                  Entire condo      슈퍼호스트    4.870986    85.188912   \n",
            "1                  Entire condo      신규호스트    4.774512     2.134146   \n",
            "2                  Entire condo      일반호스트    4.720593    52.858247   \n",
            "3            Entire rental unit      슈퍼호스트    4.850794   107.697111   \n",
            "4            Entire rental unit      신규호스트    4.523903     2.176020   \n",
            "5            Entire rental unit      일반호스트    4.643305    78.568095   \n",
            "6     Entire serviced apartment      슈퍼호스트    4.822384    57.240223   \n",
            "7     Entire serviced apartment      신규호스트    4.676780     2.389831   \n",
            "8     Entire serviced apartment      일반호스트    4.632213    40.646809   \n",
            "9   Private room in rental unit      슈퍼호스트    4.803032   110.354839   \n",
            "10  Private room in rental unit      신규호스트    4.225092     2.087912   \n",
            "11  Private room in rental unit      일반호스트    4.533048    67.661795   \n",
            "12                Room in hotel      슈퍼호스트    4.746818   107.681818   \n",
            "13                Room in hotel      신규호스트    4.430845     2.042254   \n",
            "14                Room in hotel      일반호스트    4.439293    27.616162   \n",
            "\n",
            "    review_max  host_count  \n",
            "0          581         487  \n",
            "1            4          82  \n",
            "2          489         388  \n",
            "3          795        2354  \n",
            "4            4         784  \n",
            "5          763        2614  \n",
            "6          483         537  \n",
            "7            4          59  \n",
            "8          307         235  \n",
            "9          707         155  \n",
            "10           4         273  \n",
            "11         772         479  \n",
            "12        1801          22  \n",
            "13           4          71  \n",
            "14         205          99  \n"
          ]
        }
      ]
    },
    {
      "cell_type": "code",
      "source": [
        "#신규 호스트만 필터링\n",
        "grouped = (\n",
        "    df_top5.groupby([\"property_type\", \"host_level\"])\n",
        "    .agg(\n",
        "        avg_rating=(\"review_scores_rating\", \"mean\"),   # 평균 평점\n",
        "        review_mean=(\"number_of_reviews\", \"mean\"),     # 숙소당 평균 리뷰 수\n",
        "        review_max=(\"number_of_reviews\", \"max\"),       # 숙소당 리뷰 수 최댓값\n",
        "        host_count=(\"number_of_reviews\", \"count\")      # 숙소 개수\n",
        "    )\n",
        "    .reset_index()\n",
        ")\n",
        "newhost_check = grouped[grouped[\"host_level\"] == \"신규호스트\"]\n",
        "\n",
        "print(newhost_check)"
      ],
      "metadata": {
        "colab": {
          "base_uri": "https://localhost:8080/"
        },
        "id": "WuVoWmfDTq2x",
        "outputId": "f461fb8a-68c3-44c4-a232-5a073967efab"
      },
      "execution_count": 19,
      "outputs": [
        {
          "output_type": "stream",
          "name": "stdout",
          "text": [
            "                  property_type host_level  avg_rating  review_mean  \\\n",
            "1                  Entire condo      신규호스트    4.774512     2.134146   \n",
            "4            Entire rental unit      신규호스트    4.523903     2.176020   \n",
            "7     Entire serviced apartment      신규호스트    4.676780     2.389831   \n",
            "10  Private room in rental unit      신규호스트    4.225092     2.087912   \n",
            "13                Room in hotel      신규호스트    4.430845     2.042254   \n",
            "\n",
            "    review_max  host_count  \n",
            "1            4          82  \n",
            "4            4         784  \n",
            "7            4          59  \n",
            "10           4         273  \n",
            "13           4          71  \n"
          ]
        }
      ]
    },
    {
      "cell_type": "markdown",
      "source": [
        "---\n",
        "##카테고리별 숙소 분포"
      ],
      "metadata": {
        "id": "CM-EcOXWkkju"
      }
    },
    {
      "cell_type": "code",
      "source": [
        "df['property_type'].value_counts()"
      ],
      "metadata": {
        "colab": {
          "base_uri": "https://localhost:8080/",
          "height": 489
        },
        "id": "LqOuTVNCkrHa",
        "outputId": "a9628f36-6b65-4630-cd6e-2a9fb7b03cdc"
      },
      "execution_count": 20,
      "outputs": [
        {
          "output_type": "execute_result",
          "data": {
            "text/plain": [
              "property_type\n",
              "Entire rental unit              6500\n",
              "Private room in rental unit     1229\n",
              "Entire condo                    1022\n",
              "Entire serviced apartment        896\n",
              "Room in hotel                    282\n",
              "                                ... \n",
              "Private room in camper/rv          1\n",
              "Entire chalet                      1\n",
              "Shared room in loft                1\n",
              "Shared room in hotel               1\n",
              "Private room in earthen home       1\n",
              "Name: count, Length: 65, dtype: int64"
            ],
            "text/html": [
              "<div>\n",
              "<style scoped>\n",
              "    .dataframe tbody tr th:only-of-type {\n",
              "        vertical-align: middle;\n",
              "    }\n",
              "\n",
              "    .dataframe tbody tr th {\n",
              "        vertical-align: top;\n",
              "    }\n",
              "\n",
              "    .dataframe thead th {\n",
              "        text-align: right;\n",
              "    }\n",
              "</style>\n",
              "<table border=\"1\" class=\"dataframe\">\n",
              "  <thead>\n",
              "    <tr style=\"text-align: right;\">\n",
              "      <th></th>\n",
              "      <th>count</th>\n",
              "    </tr>\n",
              "    <tr>\n",
              "      <th>property_type</th>\n",
              "      <th></th>\n",
              "    </tr>\n",
              "  </thead>\n",
              "  <tbody>\n",
              "    <tr>\n",
              "      <th>Entire rental unit</th>\n",
              "      <td>6500</td>\n",
              "    </tr>\n",
              "    <tr>\n",
              "      <th>Private room in rental unit</th>\n",
              "      <td>1229</td>\n",
              "    </tr>\n",
              "    <tr>\n",
              "      <th>Entire condo</th>\n",
              "      <td>1022</td>\n",
              "    </tr>\n",
              "    <tr>\n",
              "      <th>Entire serviced apartment</th>\n",
              "      <td>896</td>\n",
              "    </tr>\n",
              "    <tr>\n",
              "      <th>Room in hotel</th>\n",
              "      <td>282</td>\n",
              "    </tr>\n",
              "    <tr>\n",
              "      <th>...</th>\n",
              "      <td>...</td>\n",
              "    </tr>\n",
              "    <tr>\n",
              "      <th>Private room in camper/rv</th>\n",
              "      <td>1</td>\n",
              "    </tr>\n",
              "    <tr>\n",
              "      <th>Entire chalet</th>\n",
              "      <td>1</td>\n",
              "    </tr>\n",
              "    <tr>\n",
              "      <th>Shared room in loft</th>\n",
              "      <td>1</td>\n",
              "    </tr>\n",
              "    <tr>\n",
              "      <th>Shared room in hotel</th>\n",
              "      <td>1</td>\n",
              "    </tr>\n",
              "    <tr>\n",
              "      <th>Private room in earthen home</th>\n",
              "      <td>1</td>\n",
              "    </tr>\n",
              "  </tbody>\n",
              "</table>\n",
              "<p>65 rows × 1 columns</p>\n",
              "</div><br><label><b>dtype:</b> int64</label>"
            ]
          },
          "metadata": {},
          "execution_count": 20
        }
      ]
    },
    {
      "cell_type": "markdown",
      "source": [
        "# 카테고리 매핑 (수정완)"
      ],
      "metadata": {
        "id": "ZGkgMEyy_p6t"
      }
    },
    {
      "cell_type": "code",
      "source": [
        "# 숙소 유형 → 카테고리 매핑\n",
        "category_map = {\n",
        "    # 호텔\n",
        "    \"Room in hotel\": \"호텔\",\n",
        "    \"Room in boutique hotel\": \"호텔\",\n",
        "\n",
        "    # 호스텔\n",
        "    \"Room in hostel\": \"호스텔\",\n",
        "    \"Private room in hostel\": \"호스텔\",\n",
        "    \"Shared room in hostel\": \"호스텔\",\n",
        "\n",
        "    # 레지던스\n",
        "    \"Entire serviced apartment\": \"레지던스\",\n",
        "    \"Room in serviced apartment\": \"레지던스\",\n",
        "    \"Private room in serviced apartment\": \"레지던스\",\n",
        "    \"Room in aparthotel\": \"레지던스\",\n",
        "    \"Entire condo\": \"레지던스\",\n",
        "    \"Private room in condo\": \"레지던스\",\n",
        "\n",
        "    # 가정집\n",
        "    \"Entire home\": \"가정집\",\n",
        "    \"Private room in home\": \"가정집\",\n",
        "    \"Entire rental unit\": \"가정집\",\n",
        "    \"Private room in rental unit\": \"가정집\",\n",
        "    \"Shared room in rental unit\": \"가정집\",\n",
        "    \"Entire townhouse\": \"가정집\",\n",
        "    \"Private room in townhouse\": \"가정집\",\n",
        "    \"Entire villa\": \"가정집\",\n",
        "    \"Private room in villa\": \"가정집\",\n",
        "\n",
        "    # 게스트하우스\n",
        "    \"Entire guesthouse\": \"게스트하우스\",\n",
        "    \"Private room in guesthouse\": \"게스트하우스\",\n",
        "    \"Entire guest suite\": \"게스트하우스\",\n",
        "    \"Private room in guest suite\": \"게스트하우스\",\n",
        "\n",
        "    # 민박집\n",
        "    \"Bed and breakfast\": \"민박집\",\n",
        "    \"Private room in bed and breakfast\": \"민박집\",\n",
        "    \"Shared room in bed and breakfast\": \"민박집\",\n",
        "    \"Farm stay\": \"민박집\",\n",
        "\n",
        "    # 별장\n",
        "    \"Entire chalet\": \"별장\",\n",
        "    \"Entire cottage\": \"별장\",\n",
        "    \"Entire cabin\": \"별장\",\n",
        "    \"Entire tiny home\": \"별장\",\n",
        "\n",
        "    # 이색 숙소\n",
        "    \"Treehouse\": \"이색\",\n",
        "    \"Dome\": \"이색\",\n",
        "    \"Hut\": \"이색\",\n",
        "    \"Tent\": \"이색\",\n",
        "    \"Yurt\": \"이색\",\n",
        "    \"Houseboat\": \"이색\",\n",
        "    \"Camper/RV\": \"이색\",\n",
        "    \"Castle\": \"이색\",\n",
        "    \"Ryokan\": \"이색\",\n",
        "    \"Casa particular\": \"이색\",\n",
        "    \"Earth house\": \"이색\",\n",
        "    \"Barn\": \"이색\"\n",
        "}\n",
        "\n",
        "# 매핑 적용\n",
        "df_clean[\"property_category\"] = df_clean[\"property_type\"].map(category_map)"
      ],
      "metadata": {
        "id": "k8zqiFE5pNtj"
      },
      "execution_count": 24,
      "outputs": []
    },
    {
      "cell_type": "markdown",
      "source": [
        "## 시각화"
      ],
      "metadata": {
        "id": "_WzxmwXJsz3D"
      }
    },
    {
      "cell_type": "code",
      "source": [
        "#카테고리 + 호스트 등급 집계\n",
        "grouped = (\n",
        "    df_clean.groupby([\"property_category\", \"host_level\"])\n",
        "    .agg(\n",
        "        avg_rating=(\"review_scores_rating\", \"mean\"),    # 평균 평점\n",
        "        review_mean=(\"number_of_reviews\", \"mean\"),    # 숙소당 평균 리뷰 수\n",
        "        host_count=(\"id\", \"count\")                                                 # 숙소 개수\n",
        "    )\n",
        "    .reset_index()\n",
        ")"
      ],
      "metadata": {
        "id": "am1nn1wbqNJV"
      },
      "execution_count": 25,
      "outputs": []
    },
    {
      "cell_type": "code",
      "source": [
        "import pandas as pd\n",
        "import matplotlib.pyplot as plt\n",
        "import seaborn as sns\n",
        "\n",
        "fig, ax1 = plt.subplots(figsize=(12,6))\n",
        "\n",
        "# 막대: 평균 리뷰 수 (왼쪽 Y축)\n",
        "sns.barplot(\n",
        "    data=grouped,\n",
        "    x=\"property_category\", y=\"review_mean\",\n",
        "    hue=\"host_level\", ax=ax1, alpha=0.7\n",
        ")\n",
        "ax1.set_ylabel(\"리뷰 개수 (평균)\", fontsize=13, labelpad=15)\n",
        "ax1.set_xlabel(\"숙소 카테고리\", fontsize=13, labelpad=15)\n",
        "ax1.set_title(\"숙소 카테고리별 호스트 등급 (리뷰 개수 vs 평균 평점)\",\n",
        "              fontsize=16, fontweight=\"bold\", pad=15)\n",
        "ax1.tick_params(axis=\"y\", labelsize=12)\n",
        "\n",
        "# 막대 위에 숫자 표시\n",
        "for p in ax1.patches:\n",
        "    height = p.get_height()\n",
        "    if height > 0:\n",
        "        ax1.text(\n",
        "            p.get_x() + p.get_width()/2, height + (height*0.01),\n",
        "            f\"{int(height)}\", ha=\"center\", va=\"bottom\",\n",
        "            fontsize=12, color=\"black\"\n",
        "        )\n",
        "\n",
        "# 보조축: 평균 평점 (오른쪽 Y축)\n",
        "ax2 = ax1.twinx()\n",
        "sns.lineplot(\n",
        "    data=grouped,\n",
        "    x=\"property_category\", y=\"avg_rating\",\n",
        "    hue=\"host_level\", ax=ax2, marker=\"o\", linewidth=2\n",
        ")\n",
        "ax2.set_ylabel(\"평균 평점\", fontsize=13, labelpad=15)\n",
        "ax2.tick_params(axis=\"y\", labelsize=12)\n",
        "\n",
        "# 범례 정리 (겹치지 않게)\n",
        "ax2.get_legend().remove()\n",
        "ax1.legend(\n",
        "    title=\"호스트 등급\",\n",
        "    loc=\"upper left\",\n",
        "    fontsize=10,\n",
        "    title_fontsize=11\n",
        ")\n",
        "\n",
        "ax1.tick_params(axis=\"x\", labelsize=12)   # X축 글자 크기\n",
        "\n",
        "fig.tight_layout()\n",
        "plt.show()\n"
      ],
      "metadata": {
        "colab": {
          "base_uri": "https://localhost:8080/",
          "height": 485
        },
        "id": "iGPzanS9luKJ",
        "outputId": "58966d7d-cda2-46dc-970d-81cbda020fa9"
      },
      "execution_count": 26,
      "outputs": [
        {
          "output_type": "display_data",
          "data": {
            "text/plain": [
              "<Figure size 1200x600 with 2 Axes>"
            ],
            "image/png": "[encoded data removed]"
          },
          "metadata": {}
        }
      ]
    },
    {
      "cell_type": "markdown",
      "source": [
        "인사이트\n",
        "\n",
        "- 신규호스트는 모든 숙소 카테고리에서 리뷰가 한자릿수에 불과함\n",
        "    - 리뷰가 적다보니 평점은 대체로 높지만, 표본이 작아 안정성이 떨어지고 카테고리별 편차가 큼\n",
        "- 일반 호스트는 슈퍼호스트와 비슷한 경쟁력을 보임\n",
        "    - 리뷰 수가 많지는 않지만 게스트가 선택하기에 충분한 신뢰성을 확보하고 있음\n",
        "- 슈퍼호스트는 리뷰 수도 많고 평점도 높아 게스트가 가장 신뢰하는 숙소 유형을 형성함"
      ],
      "metadata": {
        "id": "YMsHhqrE1ZsI"
      }
    },
    {
      "cell_type": "code",
      "source": [
        "# 신규호스트 + 개인·공유 숙소 + 리뷰 1개인 숙소 찾기\n",
        "target = df_clean[\n",
        "    (df_clean[\"host_level\"] == \"신규호스트\") &\n",
        "    (df_clean[\"property_category\"] == \"개인·공유 숙소\") &\n",
        "    (df_clean[\"number_of_reviews\"] == 1)\n",
        "]\n",
        "\n",
        "# 확인할 컬럼만 출력 (예: id, 이름, URL, 리뷰 수 등)\n",
        "print(target[[\"id\", \"name\", \"listing_url\", \"number_of_reviews\", \"review_scores_rating\"]])"
      ],
      "metadata": {
        "colab": {
          "base_uri": "https://localhost:8080/"
        },
        "id": "Q11YeQGXsbJS",
        "outputId": "dd11a1a5-6f14-499a-899c-ce04de8cc198"
      },
      "execution_count": 29,
      "outputs": [
        {
          "output_type": "stream",
          "name": "stdout",
          "text": [
            "Empty DataFrame\n",
            "Columns: [id, name, listing_url, number_of_reviews, review_scores_rating]\n",
            "Index: []\n"
          ]
        }
      ]
    },
    {
      "cell_type": "code",
      "source": [],
      "metadata": {
        "id": "Lc-nsZ800DtC"
      },
      "execution_count": null,
      "outputs": []
    }
  ]
}